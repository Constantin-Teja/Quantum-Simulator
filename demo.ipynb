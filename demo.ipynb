{
 "cells": [
  {
   "cell_type": "markdown",
   "metadata": {},
   "source": [
    "## DEMO"
   ]
  },
  {
   "cell_type": "code",
   "execution_count": null,
   "metadata": {},
   "outputs": [],
   "source": [
    "import numpy as np\n",
    "from Quantum_Helper import Quantum_Helper as qh\n",
    "from State import State\n",
    "from Circuit import Circuit, export_gate, import_gate\n",
    "from Transformation_Enum import Transformation\n",
    "from Gate import Gate"
   ]
  },
  {
   "cell_type": "markdown",
   "metadata": {},
   "source": [
    "# Export Circuit"
   ]
  },
  {
   "cell_type": "code",
   "execution_count": null,
   "metadata": {},
   "outputs": [],
   "source": [
    "circuit = Circuit(3)\n",
    "circuit.apply_transformation(Transformation.H, [1, 0])\n",
    "circuit.apply_transformation(Transformation.H, [1, 1])\n",
    "circuit.apply_transformation(Transformation.H, [1, 2])\n",
    "circuit.export_circuit(\"circuit_exported.json\")"
   ]
  },
  {
   "cell_type": "markdown",
   "metadata": {},
   "source": [
    "# Import Circuit 1: Create entanglement"
   ]
  },
  {
   "cell_type": "code",
   "execution_count": null,
   "metadata": {},
   "outputs": [],
   "source": [
    "circuit = Circuit.import_circuit(\"circuit_1.json\")\n",
    "circuit.show_stats()"
   ]
  },
  {
   "cell_type": "markdown",
   "metadata": {},
   "source": [
    "# Import Circuit 2"
   ]
  },
  {
   "cell_type": "code",
   "execution_count": null,
   "metadata": {},
   "outputs": [],
   "source": [
    "circuit = Circuit.import_circuit(\"circuit_exported.json\")\n",
    "circuit.show_stats()"
   ]
  },
  {
   "cell_type": "code",
   "execution_count": null,
   "metadata": {},
   "outputs": [],
   "source": [
    "circuit.run()\n",
    "circuit.show_stats()"
   ]
  },
  {
   "cell_type": "markdown",
   "metadata": {},
   "source": [
    "# Export Gate"
   ]
  },
  {
   "cell_type": "code",
   "execution_count": null,
   "metadata": {},
   "outputs": [],
   "source": [
    "gate = Gate.create_by_composing([Gate.gates[\"H\"].get_gate(), Gate.gates[\"X\"].get_gate()])\n",
    "export_gate(gate ,\"gate.json\")"
   ]
  },
  {
   "cell_type": "markdown",
   "metadata": {},
   "source": [
    "# Import Gate"
   ]
  },
  {
   "cell_type": "code",
   "execution_count": null,
   "metadata": {},
   "outputs": [],
   "source": [
    "gate = import_gate(\"gate.json\")\n",
    "print(gate.get_gate())\n",
    "print(np.dot(gate.get_gate(), Gate.gates[\"H\"].get_gate()))"
   ]
  },
  {
   "cell_type": "markdown",
   "metadata": {},
   "source": [
    "# Set new base"
   ]
  },
  {
   "cell_type": "code",
   "execution_count": null,
   "metadata": {},
   "outputs": [],
   "source": [
    "qh.set_base(\"NEW_BASIS\", np.array([ [0, 1j], [1j, 0] ]))\n",
    "state = State(2)\n",
    "\n",
    "print(\"State:\\n\", state.state)\n",
    "print(\"State measured:\\n\", state.produce_measurement(\"NEW_BASIS\"))\n",
    "print(\"Density operator:\\n\", state.compute_density_matrix(\"NEW_BASIS\"))"
   ]
  },
  {
   "cell_type": "code",
   "execution_count": null,
   "metadata": {},
   "outputs": [],
   "source": [
    "state.apply_gate(Gate(np.array([ [1j, 0], [0, 1j] ])), 1, 0)\n",
    "\n",
    "print(\"\\n======== RESULTS AFTER TRANSFORMATION ========\\n\")\n",
    "print(\"State:\\n\", state.state)\n",
    "print(\"State measured:\\n\", state.produce_measurement(\"NEW_BASIS\"))\n",
    "print(\"Density operator:\\n\", state.compute_density_matrix(\"NEW_BASIS\"))"
   ]
  }
 ],
 "metadata": {
  "kernelspec": {
   "display_name": "Python 3 (ipykernel)",
   "language": "python",
   "name": "python3"
  },
  "language_info": {
   "codemirror_mode": {
    "name": "ipython",
    "version": 3
   },
   "file_extension": ".py",
   "mimetype": "text/x-python",
   "name": "python",
   "nbconvert_exporter": "python",
   "pygments_lexer": "ipython3",
   "version": "3.10.13"
  }
 },
 "nbformat": 4,
 "nbformat_minor": 4
}
